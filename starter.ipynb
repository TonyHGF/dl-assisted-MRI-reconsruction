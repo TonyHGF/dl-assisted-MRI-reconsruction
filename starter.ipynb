{
 "cells": [
  {
   "cell_type": "code",
   "execution_count": 21,
   "id": "0daa42ea",
   "metadata": {},
   "outputs": [],
   "source": [
    "%load_ext autoreload\n",
    "%autoreload 2"
   ]
  },
  {
   "cell_type": "code",
   "execution_count": 1,
   "id": "5cecc566",
   "metadata": {},
   "outputs": [],
   "source": [
    "import h5py\n",
    "import numpy as np\n",
    "import matplotlib.pyplot as plt"
   ]
  },
  {
   "cell_type": "code",
   "execution_count": null,
   "id": "5d8350ef",
   "metadata": {},
   "outputs": [],
   "source": [
    "fileh5 = h5py.File(\"./ksp_data/brain_7t_kspace.h5\", 'r')\n",
    "dataset = fileh5['dataset']\n",
    "raw_data = dataset['data']\n",
    "xml = dataset['xml']"
   ]
  },
  {
   "cell_type": "code",
   "execution_count": 6,
   "id": "c889e5a1",
   "metadata": {},
   "outputs": [
    {
     "data": {
      "text/plain": [
       "(23500,)"
      ]
     },
     "execution_count": 6,
     "metadata": {},
     "output_type": "execute_result"
    }
   ],
   "source": [
    "raw_data.shape"
   ]
  },
  {
   "cell_type": "code",
   "execution_count": null,
   "id": "f49db8ff",
   "metadata": {},
   "outputs": [
    {
     "name": "stdout",
     "output_type": "stream",
     "text": [
      "{'names': ['head', 'traj', 'data'], 'formats': [[('version', '<u2'), ('flags', '<u8'), ('measurement_uid', '<u4'), ('scan_counter', '<u4'), ('acquisition_time_stamp', '<u4'), ('physiology_time_stamp', '<u4', (3,)), ('number_of_samples', '<u2'), ('available_channels', '<u2'), ('active_channels', '<u2'), ('channel_mask', '<u8', (16,)), ('discard_pre', '<u2'), ('discard_post', '<u2'), ('center_sample', '<u2'), ('encoding_space_ref', '<u2'), ('trajectory_dimensions', '<u2'), ('sample_time_us', '<f4'), ('position', '<f4', (3,)), ('read_dir', '<f4', (3,)), ('phase_dir', '<f4', (3,)), ('slice_dir', '<f4', (3,)), ('patient_table_position', '<f4', (3,)), ('idx', [('kspace_encode_step_1', '<u2'), ('kspace_encode_step_2', '<u2'), ('average', '<u2'), ('slice', '<u2'), ('contrast', '<u2'), ('phase', '<u2'), ('repetition', '<u2'), ('set', '<u2'), ('segment', '<u2'), ('user', '<u2', (8,))]), ('user_int', '<i4', (8,)), ('user_float', '<f4', (8,))], 'O', 'O'], 'offsets': [0, 344, 360], 'itemsize': 376}\n"
     ]
    }
   ],
   "source": [
    "one_slice = raw_data[1024]\n",
    "print(one_slice.dtype) # hard to identify the structure"
   ]
  },
  {
   "cell_type": "code",
   "execution_count": 9,
   "id": "7fbe1203",
   "metadata": {},
   "outputs": [],
   "source": [
    "def summarize_dtype(dtype, indent=0):\n",
    "    prefix = \"  \" * indent\n",
    "    if dtype.fields is None:\n",
    "        print(f\"{prefix}{dtype}\")\n",
    "        return\n",
    "    for name, (subdtype, offset) in dtype.fields.items():\n",
    "        print(f\"{prefix}{name}: \", end=\"\")\n",
    "        if subdtype.fields:\n",
    "            print()  # newline\n",
    "            summarize_dtype(subdtype, indent + 1)\n",
    "        else:\n",
    "            print(subdtype)"
   ]
  },
  {
   "cell_type": "code",
   "execution_count": 11,
   "id": "70a72332",
   "metadata": {},
   "outputs": [
    {
     "name": "stdout",
     "output_type": "stream",
     "text": [
      "head: \n",
      "  version: uint16\n",
      "  flags: uint64\n",
      "  measurement_uid: uint32\n",
      "  scan_counter: uint32\n",
      "  acquisition_time_stamp: uint32\n",
      "  physiology_time_stamp: ('<u4', (3,))\n",
      "  number_of_samples: uint16\n",
      "  available_channels: uint16\n",
      "  active_channels: uint16\n",
      "  channel_mask: ('<u8', (16,))\n",
      "  discard_pre: uint16\n",
      "  discard_post: uint16\n",
      "  center_sample: uint16\n",
      "  encoding_space_ref: uint16\n",
      "  trajectory_dimensions: uint16\n",
      "  sample_time_us: float32\n",
      "  position: ('<f4', (3,))\n",
      "  read_dir: ('<f4', (3,))\n",
      "  phase_dir: ('<f4', (3,))\n",
      "  slice_dir: ('<f4', (3,))\n",
      "  patient_table_position: ('<f4', (3,))\n",
      "  idx: \n",
      "    kspace_encode_step_1: uint16\n",
      "    kspace_encode_step_2: uint16\n",
      "    average: uint16\n",
      "    slice: uint16\n",
      "    contrast: uint16\n",
      "    phase: uint16\n",
      "    repetition: uint16\n",
      "    set: uint16\n",
      "    segment: uint16\n",
      "    user: ('<u2', (8,))\n",
      "  user_int: ('<i4', (8,))\n",
      "  user_float: ('<f4', (8,))\n",
      "traj: object\n",
      "data: object\n"
     ]
    }
   ],
   "source": [
    "summarize_dtype(one_slice.dtype)"
   ]
  },
  {
   "cell_type": "code",
   "execution_count": null,
   "id": "2d71f35b",
   "metadata": {},
   "outputs": [
    {
     "name": "stdout",
     "output_type": "stream",
     "text": [
      "128: 10000\n",
      "768: 13500\n"
     ]
    }
   ],
   "source": [
    "num_samp = {}\n",
    "\n",
    "for acq in raw_data:\n",
    "    key = int(acq['head']['number_of_samples'])\n",
    "    num_samp[key] = num_samp.get(key, 0) + 1\n",
    "\n",
    "# 128 for refscan, 768 for ksp\n",
    "for key, val in num_samp.items():\n",
    "    print(f\"{key}: {val}\")"
   ]
  },
  {
   "cell_type": "code",
   "execution_count": 20,
   "id": "e233a293",
   "metadata": {},
   "outputs": [],
   "source": [
    "ksp_data = [acq for acq in raw_data if acq['head']['number_of_samples'] == 768]\n",
    "refscan_data = [acq for acq in raw_data if acq['head']['number_of_samples'] == 128]"
   ]
  },
  {
   "cell_type": "code",
   "execution_count": 22,
   "id": "4adde041",
   "metadata": {},
   "outputs": [],
   "source": [
    "from utils import build_kspace\n",
    "\n",
    "kspace_main = build_kspace(ksp_data)\n",
    "kspace_ref  = build_kspace(refscan_data)"
   ]
  },
  {
   "cell_type": "code",
   "execution_count": 23,
   "id": "b603bcd3",
   "metadata": {},
   "outputs": [
    {
     "name": "stdout",
     "output_type": "stream",
     "text": [
      "(768, 336, 256, 32)\n",
      "(128, 100, 100, 32)\n"
     ]
    }
   ],
   "source": [
    "print(kspace_main.shape)\n",
    "print(kspace_ref.shape)"
   ]
  },
  {
   "cell_type": "code",
   "execution_count": null,
   "id": "3921fcea",
   "metadata": {},
   "outputs": [],
   "source": []
  }
 ],
 "metadata": {
  "kernelspec": {
   "display_name": "mri_parallel",
   "language": "python",
   "name": "python3"
  },
  "language_info": {
   "codemirror_mode": {
    "name": "ipython",
    "version": 3
   },
   "file_extension": ".py",
   "mimetype": "text/x-python",
   "name": "python",
   "nbconvert_exporter": "python",
   "pygments_lexer": "ipython3",
   "version": "3.9.21"
  }
 },
 "nbformat": 4,
 "nbformat_minor": 5
}
